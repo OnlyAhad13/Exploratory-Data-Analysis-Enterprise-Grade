{
 "cells": [
  {
   "cell_type": "code",
   "execution_count": 1,
   "id": "50159679",
   "metadata": {},
   "outputs": [],
   "source": [
    "import pandas as pd"
   ]
  },
  {
   "cell_type": "code",
   "execution_count": 2,
   "id": "149dd796",
   "metadata": {},
   "outputs": [],
   "source": [
    "df = pd.read_csv('data/2019-Oct.csv')"
   ]
  },
  {
   "cell_type": "code",
   "execution_count": 20,
   "id": "060c6fb6",
   "metadata": {},
   "outputs": [
    {
     "data": {
      "text/plain": [
       "event_type\n",
       "view        40779399\n",
       "cart          926516\n",
       "purchase      742849\n",
       "Name: count, dtype: int64"
      ]
     },
     "execution_count": 20,
     "metadata": {},
     "output_type": "execute_result"
    }
   ],
   "source": [
    "df.event_type.value_counts()"
   ]
  }
 ],
 "metadata": {
  "kernelspec": {
   "display_name": "ml_global",
   "language": "python",
   "name": "python3"
  },
  "language_info": {
   "codemirror_mode": {
    "name": "ipython",
    "version": 3
   },
   "file_extension": ".py",
   "mimetype": "text/x-python",
   "name": "python",
   "nbconvert_exporter": "python",
   "pygments_lexer": "ipython3",
   "version": "3.11.11"
  }
 },
 "nbformat": 4,
 "nbformat_minor": 5
}
